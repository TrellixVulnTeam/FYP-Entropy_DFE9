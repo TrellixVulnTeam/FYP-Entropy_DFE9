{
 "metadata": {
  "language_info": {
   "codemirror_mode": {
    "name": "ipython",
    "version": 3
   },
   "file_extension": ".py",
   "mimetype": "text/x-python",
   "name": "python",
   "nbconvert_exporter": "python",
   "pygments_lexer": "ipython3",
   "version": "3.9.1-final"
  },
  "orig_nbformat": 2,
  "kernelspec": {
   "name": "python3",
   "display_name": "Python 3",
   "language": "python"
  }
 },
 "nbformat": 4,
 "nbformat_minor": 2,
 "cells": [
  {
   "cell_type": "code",
   "execution_count": null,
   "metadata": {},
   "outputs": [],
   "source": [
    "import nltk\n",
    "import sqlite3\n",
    "import math\n",
    "import matplotlib.pyplot as plt\n",
    "import numpy as np\n",
    "import pandas as pd\n"
   ]
  },
  {
   "cell_type": "code",
   "execution_count": 129,
   "metadata": {},
   "outputs": [
    {
     "output_type": "stream",
     "name": "stdout",
     "text": [
      "Loading engA.db\n",
      "engA.db Loaded\n",
      "Loading engE.db\n",
      "engE.db Loaded\n"
     ]
    }
   ],
   "source": [
    "# Data Loading\n",
    "# dbs must be in same folder as notebook\n",
    "\n",
    "DATABASE1_Name = 'engA.db'\n",
    "DATABASE2_Name = 'engE.db'\n",
    "sidLow = 0\n",
    "sidHigh = 9999999\n",
    "def load_data_into_pandas(targetDatabase):\n",
    "    print(\"Loading {0}\".format(targetDatabase))\n",
    "    con = sqlite3.connect(targetDatabase)\n",
    "    db = pd.read_sql_query(\"\"\"SELECT sid, cid, clemma, tag, tags FROM concept WHERE sid >= {} AND sid <= {};\"\"\".format(str(sidLow), str(sidHigh)),con)\n",
    "    print(\"{0} Loaded\".format(targetDatabase))\n",
    "\n",
    "    return db\n",
    "\n",
    "\n",
    "database_1 = load_data_into_pandas(DATABASE1_Name)\n",
    "database_2 = load_data_into_pandas(DATABASE2_Name)\n",
    "\n"
   ]
  },
  {
   "cell_type": "code",
   "execution_count": 130,
   "metadata": {},
   "outputs": [],
   "source": [
    "# Data Extraction and helper Functions\n",
    "\n",
    "def get_unique_words_from_db(db):\n",
    "    allWords = db.drop(['tag','sid', 'cid','tags'], axis = 1)\n",
    "    allWords = allWords.drop_duplicates()\n",
    "    return allWords\n",
    "\n",
    "def innerJoin( db_a, db_b):\n",
    "    return db_a.merge(db_b, how='inner', on=['sid', 'cid'] ,suffixes=['_db_a','_db_b'], sort=False, validate = 'one_to_one' )\n",
    "     \n",
    "def getCountofEachWord(db):\n",
    "    allWordCounts = db.groupby(['clemma']).size()\n",
    "    return  allWordCounts\n",
    "\n",
    "def checkAgreement(db):\n",
    "    def agreementHelper(row):\n",
    "        return row['tag_db_a'] == row['tag_db_b']\n",
    "    agreements = db.apply(agreementHelper, axis =1 )\n",
    "    result = db.copy()\n",
    "    result['agreement'] = agreements\n",
    "    return result\n",
    "    "
   ]
  },
  {
   "cell_type": "code",
   "execution_count": 131,
   "metadata": {},
   "outputs": [],
   "source": [
    "# Generating List of Unique Words\n",
    "database_1_unique_words = get_unique_words_from_db(database_1)\n",
    "database_2_unique_words = get_unique_words_from_db(database_2)\n",
    "\n",
    "# Generating List of word counts\n",
    "database_1_words_counts = getCountofEachWord(database_1)\n",
    "database_2_words_counts = getCountofEachWord(database_2)\n",
    "\n",
    "# Joining the Two DBs\n",
    "combined_database = innerJoin(database_1, database_2)\n",
    "\n",
    "# Checking Agreement\n",
    "combined_database_with_agreement = checkAgreement(combined_database)\n"
   ]
  },
  {
   "cell_type": "code",
   "execution_count": 132,
   "metadata": {},
   "outputs": [],
   "source": [
    "def add_column_by_inner_join(db,add):\n",
    "    return db.merge(add, how='left', on=['clemma_db_a'], sort=False, validate = 'one_to_one' ).fillna(0)\n",
    "\n",
    "# Grouping \n",
    "# agreementGrouping\n",
    "combined_database_with_agreement_grouped_count = combined_database_with_agreement.groupby(['clemma_db_a','agreement']).size().to_frame().rename(columns = {0:'agreementCount',}).reset_index()\n",
    "combined_database_with_agreement_grouped_count_positives = combined_database_with_agreement_grouped_count[combined_database_with_agreement_grouped_count['agreement'] == True ].drop(['agreement'], axis = 1)\n",
    "# combined_database_with_agreement_grouped_count.columns = ['agreementCount']\n",
    "\n",
    "#wordCount Grouping\n",
    "combined_database_with_agreement_wordCount = combined_database_with_agreement.groupby(['clemma_db_a']).size().to_frame().rename(columns = {0:'wordCount',}).reset_index()\n",
    "# combined_database_with_agreement_wordCount.columns = ['wordCount']\n",
    "\n",
    "combined_agreement_database = add_column_by_inner_join(\n",
    "    combined_database_with_agreement_wordCount,\n",
    "    combined_database_with_agreement_grouped_count_positives)\n",
    "\n",
    "\n"
   ]
  },
  {
   "cell_type": "code",
   "execution_count": 133,
   "metadata": {},
   "outputs": [],
   "source": [
    "\n",
    "def calculatePercentageAgreement(agreement_db):\n",
    "    def percentageHelper(row):\n",
    "        # do we care about spaces?????? use\n",
    "        # return row['tag_db_a'].strip() == row['tag_db_b'].strip()\n",
    "        return  (row['agreementCount']/row['wordCount']) * 100\n",
    "\n",
    "    percentages = agreement_db.apply(percentageHelper, axis =1 )\n",
    "    result = agreement_db.copy()\n",
    "    result['Percent'] = percentages\n",
    "    return result\n",
    "\n",
    "# Change ascending to flip\n",
    "combined_agreement_database_withPercents = calculatePercentageAgreement(combined_agreement_database).sort_values(['Percent'], ascending = True )"
   ]
  },
  {
   "cell_type": "code",
   "execution_count": 134,
   "metadata": {},
   "outputs": [
    {
     "output_type": "execute_result",
     "data": {
      "text/plain": [
       "         clemma_db_a  wordCount  agreementCount     Percent\n",
       "4296  excuse me       2          1               50.000000 \n",
       "4295  excuse          8          7               87.500000 \n",
       "7698  me              184        183             99.456522 \n",
       "0     !               1          1               100.000000\n",
       "9187  perfumed        1          1               100.000000\n",
       "9188  perfunctory     1          1               100.000000\n",
       "9189  perhaps         19         19              100.000000\n",
       "9190  period          36         36              100.000000\n",
       "9191  period of time  2          2               100.000000\n",
       "...              ... ..         ..                      ...\n",
       "1049  artillery       1          1               100.000000\n",
       "1047  articulate      1          1               100.000000\n",
       "1024  arrival time    1          1               100.000000\n",
       "1025  arrive          19         19              100.000000\n",
       "1026  arrive at       8          8               100.000000\n",
       "1027  arrogance       2          2               100.000000\n",
       "1028  arson           1          1               100.000000\n",
       "1029  arsonist        1          1               100.000000\n",
       "1030  art             97         97              100.000000\n",
       "\n",
       "[9999 rows x 4 columns]"
      ],
      "text/html": "<div>\n<style scoped>\n    .dataframe tbody tr th:only-of-type {\n        vertical-align: middle;\n    }\n\n    .dataframe tbody tr th {\n        vertical-align: top;\n    }\n\n    .dataframe thead th {\n        text-align: right;\n    }\n</style>\n<table border=\"1\" class=\"dataframe\">\n  <thead>\n    <tr style=\"text-align: right;\">\n      <th></th>\n      <th>clemma_db_a</th>\n      <th>wordCount</th>\n      <th>agreementCount</th>\n      <th>Percent</th>\n    </tr>\n  </thead>\n  <tbody>\n    <tr>\n      <th>4296</th>\n      <td>excuse me</td>\n      <td>2</td>\n      <td>1</td>\n      <td>50.000000</td>\n    </tr>\n    <tr>\n      <th>4295</th>\n      <td>excuse</td>\n      <td>8</td>\n      <td>7</td>\n      <td>87.500000</td>\n    </tr>\n    <tr>\n      <th>7698</th>\n      <td>me</td>\n      <td>184</td>\n      <td>183</td>\n      <td>99.456522</td>\n    </tr>\n    <tr>\n      <th>0</th>\n      <td>!</td>\n      <td>1</td>\n      <td>1</td>\n      <td>100.000000</td>\n    </tr>\n    <tr>\n      <th>9187</th>\n      <td>perfumed</td>\n      <td>1</td>\n      <td>1</td>\n      <td>100.000000</td>\n    </tr>\n    <tr>\n      <th>9188</th>\n      <td>perfunctory</td>\n      <td>1</td>\n      <td>1</td>\n      <td>100.000000</td>\n    </tr>\n    <tr>\n      <th>9189</th>\n      <td>perhaps</td>\n      <td>19</td>\n      <td>19</td>\n      <td>100.000000</td>\n    </tr>\n    <tr>\n      <th>9190</th>\n      <td>period</td>\n      <td>36</td>\n      <td>36</td>\n      <td>100.000000</td>\n    </tr>\n    <tr>\n      <th>9191</th>\n      <td>period of time</td>\n      <td>2</td>\n      <td>2</td>\n      <td>100.000000</td>\n    </tr>\n    <tr>\n      <th>...</th>\n      <td>...</td>\n      <td>...</td>\n      <td>...</td>\n      <td>...</td>\n    </tr>\n    <tr>\n      <th>1049</th>\n      <td>artillery</td>\n      <td>1</td>\n      <td>1</td>\n      <td>100.000000</td>\n    </tr>\n    <tr>\n      <th>1047</th>\n      <td>articulate</td>\n      <td>1</td>\n      <td>1</td>\n      <td>100.000000</td>\n    </tr>\n    <tr>\n      <th>1024</th>\n      <td>arrival time</td>\n      <td>1</td>\n      <td>1</td>\n      <td>100.000000</td>\n    </tr>\n    <tr>\n      <th>1025</th>\n      <td>arrive</td>\n      <td>19</td>\n      <td>19</td>\n      <td>100.000000</td>\n    </tr>\n    <tr>\n      <th>1026</th>\n      <td>arrive at</td>\n      <td>8</td>\n      <td>8</td>\n      <td>100.000000</td>\n    </tr>\n    <tr>\n      <th>1027</th>\n      <td>arrogance</td>\n      <td>2</td>\n      <td>2</td>\n      <td>100.000000</td>\n    </tr>\n    <tr>\n      <th>1028</th>\n      <td>arson</td>\n      <td>1</td>\n      <td>1</td>\n      <td>100.000000</td>\n    </tr>\n    <tr>\n      <th>1029</th>\n      <td>arsonist</td>\n      <td>1</td>\n      <td>1</td>\n      <td>100.000000</td>\n    </tr>\n    <tr>\n      <th>1030</th>\n      <td>art</td>\n      <td>97</td>\n      <td>97</td>\n      <td>100.000000</td>\n    </tr>\n  </tbody>\n</table>\n<p>9999 rows × 4 columns</p>\n</div>"
     },
     "metadata": {},
     "execution_count": 134
    }
   ],
   "source": [
    "pd.set_option('display.max_rows', 0)\n",
    "pd.set_option('display.max_columns', 0)\n",
    "pd.set_option('display.max_colwidth', 0)\n",
    "combined_agreement_database_withPercents.head(9999)"
   ]
  },
  {
   "cell_type": "code",
   "execution_count": 135,
   "metadata": {},
   "outputs": [
    {
     "output_type": "execute_result",
     "data": {
      "text/plain": [
       "     clemma_db_a  wordCount  agreementCount  Percent\n",
       "3438  dessert     26         26              100.0  "
      ],
      "text/html": "<div>\n<style scoped>\n    .dataframe tbody tr th:only-of-type {\n        vertical-align: middle;\n    }\n\n    .dataframe tbody tr th {\n        vertical-align: top;\n    }\n\n    .dataframe thead th {\n        text-align: right;\n    }\n</style>\n<table border=\"1\" class=\"dataframe\">\n  <thead>\n    <tr style=\"text-align: right;\">\n      <th></th>\n      <th>clemma_db_a</th>\n      <th>wordCount</th>\n      <th>agreementCount</th>\n      <th>Percent</th>\n    </tr>\n  </thead>\n  <tbody>\n    <tr>\n      <th>3438</th>\n      <td>dessert</td>\n      <td>26</td>\n      <td>26</td>\n      <td>100.0</td>\n    </tr>\n  </tbody>\n</table>\n</div>"
     },
     "metadata": {},
     "execution_count": 135
    }
   ],
   "source": [
    "# To find list of words in db\n",
    "def findWordsin_agreement_database(db,list_of_clemma):\n",
    "    return db.loc[db['clemma_db_a'].isin(list_of_clemma)]\n",
    "\n",
    "pd.set_option('display.max_rows', 0)\n",
    "pd.set_option('display.max_columns', 20)\n",
    "pd.set_option('display.max_colwidth', 0)\n",
    "\n",
    "a = findWordsin_agreement_database(combined_agreement_database_withPercents, ['dessert'])\n",
    "a.head(20)"
   ]
  },
  {
   "cell_type": "code",
   "execution_count": 136,
   "metadata": {},
   "outputs": [],
   "source": [
    "# Excel conversion\n",
    "combined_agreement_database_withPercents.to_excel(\"output2.xlsx\")"
   ]
  },
  {
   "cell_type": "code",
   "execution_count": null,
   "metadata": {},
   "outputs": [],
   "source": []
  }
 ]
}